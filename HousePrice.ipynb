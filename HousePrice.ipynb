{
  "nbformat": 4,
  "nbformat_minor": 0,
  "metadata": {
    "colab": {
      "name": "HousePrice.ipynb",
      "provenance": [],
      "collapsed_sections": [],
      "authorship_tag": "ABX9TyNdC3j6E2VJ9x4vWf8n1TfR",
      "include_colab_link": true
    },
    "kernelspec": {
      "name": "python3",
      "display_name": "Python 3"
    },
    "language_info": {
      "name": "python"
    }
  },
  "cells": [
    {
      "cell_type": "markdown",
      "metadata": {
        "id": "view-in-github",
        "colab_type": "text"
      },
      "source": [
        "<a href=\"https://colab.research.google.com/github/Shubham-kite/DataScience-/blob/master/HousePrice.ipynb\" target=\"_parent\"><img src=\"https://colab.research.google.com/assets/colab-badge.svg\" alt=\"Open In Colab\"/></a>"
      ]
    },
    {
      "cell_type": "code",
      "execution_count": 2,
      "metadata": {
        "id": "BlPI58C6pFfo"
      },
      "outputs": [],
      "source": [
        "import pandas as pd\n",
        "import matplotlib.pyplot as plt\n",
        "from sklearn.linear_model import LinearRegression"
      ]
    },
    {
      "cell_type": "code",
      "source": [
        "#sample dataset \n",
        "area=[400,500,550,600,650,700,780,800,810,850,900,1000]\n",
        "price=[15,20,24,27,30,33,35,40,42,42.5,46,50]\n",
        "cal={\n",
        "    'area':area,\n",
        "    'price':price\n",
        "}\n",
        "data =pd.DataFrame(cal)"
      ],
      "metadata": {
        "id": "gqDjBGOHpnBE"
      },
      "execution_count": 4,
      "outputs": []
    },
    {
      "cell_type": "code",
      "source": [
        "data.info()"
      ],
      "metadata": {
        "id": "UsVcSoSVpzxN"
      },
      "execution_count": null,
      "outputs": []
    },
    {
      "cell_type": "code",
      "source": [
        "#ploting scatter plot\n",
        "plt.title(\"House Price\")\n",
        "plt.xlabel(\"House Area in Square feet\")\n",
        "plt.ylabel(\"House price in Lakhs\")\n",
        "plt.scatter(data['area'],data['price'])\n",
        "plt.show()"
      ],
      "metadata": {
        "colab": {
          "base_uri": "https://localhost:8080/",
          "height": 295
        },
        "id": "BiyQR3cDp3LU",
        "outputId": "2cb7d5c6-0c36-4d79-edc3-85ad5d6d1501"
      },
      "execution_count": 32,
      "outputs": [
        {
          "output_type": "display_data",
          "data": {
            "text/plain": [
              "<Figure size 432x288 with 1 Axes>"
            ],
            "image/png": "[encoded data removed]"
          },
          "metadata": {
            "needs_background": "light"
          }
        }
      ]
    },
    {
      "cell_type": "code",
      "source": [
        "#model training\n",
        "#fit-> 1st arg 2d array\n",
        "regression = LinearRegression()\n",
        "regression.fit(data[['area']],data.price)"
      ],
      "metadata": {
        "colab": {
          "base_uri": "https://localhost:8080/"
        },
        "id": "6nez_gEhqa8l",
        "outputId": "d637d5a8-b2ab-4c1e-e543-a0c42ad531c1"
      },
      "execution_count": 22,
      "outputs": [
        {
          "output_type": "execute_result",
          "data": {
            "text/plain": [
              "LinearRegression()"
            ]
          },
          "metadata": {},
          "execution_count": 22
        }
      ]
    },
    {
      "cell_type": "code",
      "source": [
        "#predication\n",
        "#y = mx+c\n",
        "m = regression.coef_\n",
        "c = regression.intercept_\n",
        "print(m)\n",
        "print(c)"
      ],
      "metadata": {
        "colab": {
          "base_uri": "https://localhost:8080/"
        },
        "id": "6MY_CJQoso6L",
        "outputId": "bc6b1a2b-ffe5-4529-946b-6bc4d7678b07"
      },
      "execution_count": 30,
      "outputs": [
        {
          "output_type": "stream",
          "name": "stdout",
          "text": [
            "[0.06091133]\n",
            "-9.640233278482235\n"
          ]
        }
      ]
    },
    {
      "cell_type": "code",
      "source": [
        "m*(753)+c"
      ],
      "metadata": {
        "colab": {
          "base_uri": "https://localhost:8080/"
        },
        "id": "EnIzUPVsuC21",
        "outputId": "f7579c9b-c2aa-490b-e549-6965b3d86e98"
      },
      "execution_count": 31,
      "outputs": [
        {
          "output_type": "execute_result",
          "data": {
            "text/plain": [
              "array([36.22600184])"
            ]
          },
          "metadata": {},
          "execution_count": 31
        }
      ]
    }
  ]
}